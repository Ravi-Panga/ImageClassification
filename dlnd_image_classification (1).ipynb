{
 "cells": [
  {
   "cell_type": "markdown",
   "metadata": {
    "collapsed": true
   },
   "source": [
    "# Image Classification\n",
    "In this project, you'll classify images from the [CIFAR-10 dataset](https://www.cs.toronto.edu/~kriz/cifar.html).  The dataset consists of airplanes, dogs, cats, and other objects. You'll preprocess the images, then train a convolutional neural network on all the samples. The images need to be normalized and the labels need to be one-hot encoded.  You'll get to apply what you learned and build a convolutional, max pooling, dropout, and fully connected layers.  At the end, you'll get to see your neural network's predictions on the sample images.\n",
    "## Get the Data\n",
    "Run the following cell to download the [CIFAR-10 dataset for python](https://www.cs.toronto.edu/~kriz/cifar-10-python.tar.gz)."
   ]
  },
  {
   "cell_type": "code",
   "execution_count": 4,
   "metadata": {},
   "outputs": [
    {
     "name": "stdout",
     "output_type": "stream",
     "text": [
      "All files found!\n"
     ]
    }
   ],
   "source": [
    "\"\"\"\n",
    "DON'T MODIFY ANYTHING IN THIS CELL THAT IS BELOW THIS LINE\n",
    "\"\"\"\n",
    "from urllib.request import urlretrieve\n",
    "from os.path import isfile, isdir\n",
    "from tqdm import tqdm\n",
    "import problem_unittests as tests\n",
    "import tarfile\n",
    "\n",
    "cifar10_dataset_folder_path = 'cifar-10-batches-py'\n",
    "\n",
    "# Use Floyd's cifar-10 dataset if present\n",
    "floyd_cifar10_location = '/input/cifar-10/python.tar.gz'\n",
    "if isfile(floyd_cifar10_location):\n",
    "    tar_gz_path = floyd_cifar10_location\n",
    "else:\n",
    "    tar_gz_path = 'cifar-10-python.tar.gz'\n",
    "\n",
    "class DLProgress(tqdm):\n",
    "    last_block = 0\n",
    "\n",
    "    def hook(self, block_num=1, block_size=1, total_size=None):\n",
    "        self.total = total_size\n",
    "        self.update((block_num - self.last_block) * block_size)\n",
    "        self.last_block = block_num\n",
    "\n",
    "if not isfile(tar_gz_path):\n",
    "    with DLProgress(unit='B', unit_scale=True, miniters=1, desc='CIFAR-10 Dataset') as pbar:\n",
    "        urlretrieve(\n",
    "            'https://www.cs.toronto.edu/~kriz/cifar-10-python.tar.gz',\n",
    "            tar_gz_path,\n",
    "            pbar.hook)\n",
    "\n",
    "if not isdir(cifar10_dataset_folder_path):\n",
    "    with tarfile.open(tar_gz_path) as tar:\n",
    "        tar.extractall()\n",
    "        tar.close()\n",
    "\n",
    "\n",
    "tests.test_folder_path(cifar10_dataset_folder_path)"
   ]
  },
  {
   "cell_type": "markdown",
   "metadata": {},
   "source": [
    "## Explore the Data\n",
    "The dataset is broken into batches to prevent your machine from running out of memory.  The CIFAR-10 dataset consists of 5 batches, named `data_batch_1`, `data_batch_2`, etc.. Each batch contains the labels and images that are one of the following:\n",
    "* airplane\n",
    "* automobile\n",
    "* bird\n",
    "* cat\n",
    "* deer\n",
    "* dog\n",
    "* frog\n",
    "* horse\n",
    "* ship\n",
    "* truck\n",
    "\n",
    "Understanding a dataset is part of making predictions on the data.  Play around with the code cell below by changing the `batch_id` and `sample_id`. The `batch_id` is the id for a batch (1-5). The `sample_id` is the id for a image and label pair in the batch.\n",
    "\n",
    "Ask yourself \"What are all possible labels?\", \"What is the range of values for the image data?\", \"Are the labels in order or random?\".  Answers to questions like these will help you preprocess the data and end up with better predictions."
   ]
  },
  {
   "cell_type": "code",
   "execution_count": 5,
   "metadata": {},
   "outputs": [
    {
     "name": "stdout",
     "output_type": "stream",
     "text": [
      "\n",
      "Stats of batch 1:\n",
      "Samples: 10000\n",
      "Label Counts: {0: 1005, 1: 974, 2: 1032, 3: 1016, 4: 999, 5: 937, 6: 1030, 7: 1001, 8: 1025, 9: 981}\n",
      "First 20 Labels: [6, 9, 9, 4, 1, 1, 2, 7, 8, 3, 4, 7, 7, 2, 9, 9, 9, 3, 2, 6]\n",
      "\n",
      "Example of Image 50:\n",
      "Image - Min Value: 8 Max Value: 243\n",
      "Image - Shape: (32, 32, 3)\n",
      "Label - Label Id: 9 Name: truck\n"
     ]
    },
    {
     "data": {
      "image/png": "[encoded data removed]",
      "text/plain": [
       "<matplotlib.figure.Figure at 0x7f16a2347390>"
      ]
     },
     "metadata": {
      "image/png": {
       "height": 250,
       "width": 253
      }
     },
     "output_type": "display_data"
    }
   ],
   "source": [
    "%matplotlib inline\n",
    "%config InlineBackend.figure_format = 'retina'\n",
    "\n",
    "import helper\n",
    "import numpy as np\n",
    "\n",
    "# Explore the dataset\n",
    "batch_id = 1\n",
    "sample_id = 50\n",
    "helper.display_stats(cifar10_dataset_folder_path, batch_id, sample_id)"
   ]
  },
  {
   "cell_type": "markdown",
   "metadata": {},
   "source": [
    "## Implement Preprocess Functions\n",
    "### Normalize\n",
    "In the cell below, implement the `normalize` function to take in image data, `x`, and return it as a normalized Numpy array. The values should be in the range of 0 to 1, inclusive.  The return object should be the same shape as `x`."
   ]
  },
  {
   "cell_type": "code",
   "execution_count": 6,
   "metadata": {},
   "outputs": [
    {
     "name": "stdout",
     "output_type": "stream",
     "text": [
      "Tests Passed\n"
     ]
    }
   ],
   "source": [
    "def normalize(x):\n",
    "    \"\"\"\n",
    "    Normalize a list of sample image data in the range of 0 to 1\n",
    "    : x: List of image data.  The image shape is (32, 32, 3)\n",
    "    : return: Numpy array of normalize data\n",
    "    \"\"\"\n",
    "    # TODO: Implement Function\n",
    "    return x/255\n",
    "\n",
    "\n",
    "\"\"\"\n",
    "DON'T MODIFY ANYTHING IN THIS CELL THAT IS BELOW THIS LINE\n",
    "\"\"\"\n",
    "tests.test_normalize(normalize)"
   ]
  },
  {
   "cell_type": "markdown",
   "metadata": {},
   "source": [
    "### One-hot encode\n",
    "Just like the previous code cell, you'll be implementing a function for preprocessing.  This time, you'll implement the `one_hot_encode` function. The input, `x`, are a list of labels.  Implement the function to return the list of labels as One-Hot encoded Numpy array.  The possible values for labels are 0 to 9. The one-hot encoding function should return the same encoding for each value between each call to `one_hot_encode`.  Make sure to save the map of encodings outside the function.\n",
    "\n",
    "Hint: Don't reinvent the wheel."
   ]
  },
  {
   "cell_type": "code",
   "execution_count": 7,
   "metadata": {},
   "outputs": [
    {
     "name": "stdout",
     "output_type": "stream",
     "text": [
      "Tests Passed\n"
     ]
    }
   ],
   "source": [
    "def one_hot_encode(x):\n",
    "    \"\"\"\n",
    "    One hot encode a list of sample labels. Return a one-hot encoded vector for each label.\n",
    "    : x: List of sample Labels\n",
    "    : return: Numpy array of one-hot encoded labels\n",
    "    \"\"\"\n",
    "    # TODO: Implement Function\n",
    "    return np.eye(10)[x]\n",
    "\n",
    "\n",
    "\"\"\"\n",
    "DON'T MODIFY ANYTHING IN THIS CELL THAT IS BELOW THIS LINE\n",
    "\"\"\"\n",
    "tests.test_one_hot_encode(one_hot_encode)"
   ]
  },
  {
   "cell_type": "markdown",
   "metadata": {},
   "source": [
    "### Randomize Data\n",
    "As you saw from exploring the data above, the order of the samples are randomized.  It doesn't hurt to randomize it again, but you don't need to for this dataset."
   ]
  },
  {
   "cell_type": "markdown",
   "metadata": {},
   "source": [
    "## Preprocess all the data and save it\n",
    "Running the code cell below will preprocess all the CIFAR-10 data and save it to file. The code below also uses 10% of the training data for validation."
   ]
  },
  {
   "cell_type": "code",
   "execution_count": 8,
   "metadata": {
    "collapsed": true
   },
   "outputs": [],
   "source": [
    "\"\"\"\n",
    "DON'T MODIFY ANYTHING IN THIS CELL\n",
    "\"\"\"\n",
    "# Preprocess Training, Validation, and Testing Data\n",
    "helper.preprocess_and_save_data(cifar10_dataset_folder_path, normalize, one_hot_encode)"
   ]
  },
  {
   "cell_type": "markdown",
   "metadata": {},
   "source": [
    "# Check Point\n",
    "This is your first checkpoint.  If you ever decide to come back to this notebook or have to restart the notebook, you can start from here.  The preprocessed data has been saved to disk."
   ]
  },
  {
   "cell_type": "code",
   "execution_count": 9,
   "metadata": {
    "collapsed": true
   },
   "outputs": [],
   "source": [
    "\"\"\"\n",
    "DON'T MODIFY ANYTHING IN THIS CELL\n",
    "\"\"\"\n",
    "import pickle\n",
    "import problem_unittests as tests\n",
    "import helper\n",
    "\n",
    "# Load the Preprocessed Validation data\n",
    "valid_features, valid_labels = pickle.load(open('preprocess_validation.p', mode='rb'))"
   ]
  },
  {
   "cell_type": "markdown",
   "metadata": {},
   "source": [
    "## Build the network\n",
    "For the neural network, you'll build each layer into a function.  Most of the code you've seen has been outside of functions. To test your code more thoroughly, we require that you put each layer in a function.  This allows us to give you better feedback and test for simple mistakes using our unittests before you submit your project.\n",
    "\n",
    ">**Note:** If you're finding it hard to dedicate enough time for this course each week, we've provided a small shortcut to this part of the project. In the next couple of problems, you'll have the option to use classes from the [TensorFlow Layers](https://www.tensorflow.org/api_docs/python/tf/layers) or [TensorFlow Layers (contrib)](https://www.tensorflow.org/api_guides/python/contrib.layers) packages to build each layer, except the layers you build in the \"Convolutional and Max Pooling Layer\" section.  TF Layers is similar to Keras's and TFLearn's abstraction to layers, so it's easy to pickup.\n",
    "\n",
    ">However, if you would like to get the most out of this course, try to solve all the problems _without_ using anything from the TF Layers packages. You **can** still use classes from other packages that happen to have the same name as ones you find in TF Layers! For example, instead of using the TF Layers version of the `conv2d` class, [tf.layers.conv2d](https://www.tensorflow.org/api_docs/python/tf/layers/conv2d), you would want to use the TF Neural Network version of `conv2d`, [tf.nn.conv2d](https://www.tensorflow.org/api_docs/python/tf/nn/conv2d). \n",
    "\n",
    "Let's begin!\n",
    "\n",
    "### Input\n",
    "The neural network needs to read the image data, one-hot encoded labels, and dropout keep probability. Implement the following functions\n",
    "* Implement `neural_net_image_input`\n",
    " * Return a [TF Placeholder](https://www.tensorflow.org/api_docs/python/tf/placeholder)\n",
    " * Set the shape using `image_shape` with batch size set to `None`.\n",
    " * Name the TensorFlow placeholder \"x\" using the TensorFlow `name` parameter in the [TF Placeholder](https://www.tensorflow.org/api_docs/python/tf/placeholder).\n",
    "* Implement `neural_net_label_input`\n",
    " * Return a [TF Placeholder](https://www.tensorflow.org/api_docs/python/tf/placeholder)\n",
    " * Set the shape using `n_classes` with batch size set to `None`.\n",
    " * Name the TensorFlow placeholder \"y\" using the TensorFlow `name` parameter in the [TF Placeholder](https://www.tensorflow.org/api_docs/python/tf/placeholder).\n",
    "* Implement `neural_net_keep_prob_input`\n",
    " * Return a [TF Placeholder](https://www.tensorflow.org/api_docs/python/tf/placeholder) for dropout keep probability.\n",
    " * Name the TensorFlow placeholder \"keep_prob\" using the TensorFlow `name` parameter in the [TF Placeholder](https://www.tensorflow.org/api_docs/python/tf/placeholder).\n",
    "\n",
    "These names will be used at the end of the project to load your saved model.\n",
    "\n",
    "Note: `None` for shapes in TensorFlow allow for a dynamic size."
   ]
  },
  {
   "cell_type": "code",
   "execution_count": 10,
   "metadata": {},
   "outputs": [
    {
     "name": "stdout",
     "output_type": "stream",
     "text": [
      "Image Input Tests Passed.\n",
      "Label Input Tests Passed.\n",
      "Keep Prob Tests Passed.\n"
     ]
    }
   ],
   "source": [
    "import tensorflow as tf\n",
    "\n",
    "def neural_net_image_input(image_shape):\n",
    "    \"\"\"\n",
    "    Return a Tensor for a batch of image input\n",
    "    : image_shape: Shape of the images\n",
    "    : return: Tensor for image input.\n",
    "    \"\"\"\n",
    "    # TODO: Implement Function\n",
    "    return tf.placeholder(tf.float32, [None,image_shape[0],image_shape[1],image_shape[2]], name='x')\n",
    "\n",
    "\n",
    "def neural_net_label_input(n_classes):\n",
    "    \"\"\"\n",
    "    Return a Tensor for a batch of label input\n",
    "    : n_classes: Number of classes\n",
    "    : return: Tensor for label input.\n",
    "    \"\"\"\n",
    "    # TODO: Implement Function\n",
    "    return tf.placeholder(tf.float32, [None, n_classes], name='y')\n",
    "\n",
    "\n",
    "def neural_net_keep_prob_input():\n",
    "    \"\"\"\n",
    "    Return a Tensor for keep probability\n",
    "    : return: Tensor for keep probability.\n",
    "    \"\"\"\n",
    "    # TODO: Implement Function\n",
    "    return tf.placeholder(tf.float32, name='keep_prob')\n",
    "\n",
    "\n",
    "\"\"\"\n",
    "DON'T MODIFY ANYTHING IN THIS CELL THAT IS BELOW THIS LINE\n",
    "\"\"\"\n",
    "tf.reset_default_graph()\n",
    "tests.test_nn_image_inputs(neural_net_image_input)\n",
    "tests.test_nn_label_inputs(neural_net_label_input)\n",
    "tests.test_nn_keep_prob_inputs(neural_net_keep_prob_input)"
   ]
  },
  {
   "cell_type": "markdown",
   "metadata": {},
   "source": [
    "### Convolution and Max Pooling Layer\n",
    "Convolution layers have a lot of success with images. For this code cell, you should implement the function `conv2d_maxpool` to apply convolution then max pooling:\n",
    "* Create the weight and bias using `conv_ksize`, `conv_num_outputs` and the shape of `x_tensor`.\n",
    "* Apply a convolution to `x_tensor` using weight and `conv_strides`.\n",
    " * We recommend you use same padding, but you're welcome to use any padding.\n",
    "* Add bias\n",
    "* Add a nonlinear activation to the convolution.\n",
    "* Apply Max Pooling using `pool_ksize` and `pool_strides`.\n",
    " * We recommend you use same padding, but you're welcome to use any padding.\n",
    "\n",
    "**Note:** You **can't** use [TensorFlow Layers](https://www.tensorflow.org/api_docs/python/tf/layers) or [TensorFlow Layers (contrib)](https://www.tensorflow.org/api_guides/python/contrib.layers) for **this** layer, but you can still use TensorFlow's [Neural Network](https://www.tensorflow.org/api_docs/python/tf/nn) package. You may still use the shortcut option for all the **other** layers."
   ]
  },
  {
   "cell_type": "code",
   "execution_count": 11,
   "metadata": {},
   "outputs": [
    {
     "name": "stdout",
     "output_type": "stream",
     "text": [
      "Tests Passed\n"
     ]
    }
   ],
   "source": [
    "def conv2d_maxpool(x_tensor, conv_num_outputs, conv_ksize, conv_strides, pool_ksize, pool_strides):\n",
    "    \"\"\"\n",
    "    Apply convolution then max pooling to x_tensor\n",
    "    :param x_tensor: TensorFlow Tensor\n",
    "    :param conv_num_outputs: Number of outputs for the convolutional layer\n",
    "    :param conv_ksize: kernal size 2-D Tuple for the convolutional layer\n",
    "    :param conv_strides: Stride 2-D Tuple for convolution\n",
    "    :param pool_ksize: kernal size 2-D Tuple for pool\n",
    "    :param pool_strides: Stride 2-D Tuple for pool\n",
    "    : return: A tensor that represents convolution and max pooling of x_tensor\n",
    "    \"\"\"\n",
    "    # TODO: Implement Function\n",
    "    weight = tf.Variable(tf.random_normal([conv_ksize[0],conv_ksize[1],x_tensor.get_shape().as_list()[-1],conv_num_outputs],stddev=0.1))\n",
    "    bias = tf.Variable(tf.zeros(conv_num_outputs, dtype=tf.float32))\n",
    "    conv_layer = tf.nn.conv2d(x_tensor, weight, strides=[1,conv_strides[0], conv_strides[1],1], padding = 'SAME' )\n",
    "    \n",
    "    conv_layer = tf.nn.bias_add(conv_layer, bias)\n",
    "    conv_layer = tf.nn.relu(conv_layer)\n",
    "    conv_layer = tf.nn.max_pool(conv_layer, ksize=[1,pool_ksize[0], pool_ksize[1],1], \n",
    "                                strides=[1,pool_strides[0], pool_strides[1],1],\n",
    "                               padding='SAME')\n",
    "    return conv_layer\n",
    "\"\"\"\n",
    "DON'T MODIFY ANYTHING IN THIS CELL THAT IS BELOW THIS LINE\n",
    "\"\"\"\n",
    "tests.test_con_pool(conv2d_maxpool)"
   ]
  },
  {
   "cell_type": "markdown",
   "metadata": {},
   "source": [
    "### Flatten Layer\n",
    "Implement the `flatten` function to change the dimension of `x_tensor` from a 4-D tensor to a 2-D tensor.  The output should be the shape (*Batch Size*, *Flattened Image Size*). Shortcut option: you can use classes from the [TensorFlow Layers](https://www.tensorflow.org/api_docs/python/tf/layers) or [TensorFlow Layers (contrib)](https://www.tensorflow.org/api_guides/python/contrib.layers) packages for this layer. For more of a challenge, only use other TensorFlow packages."
   ]
  },
  {
   "cell_type": "code",
   "execution_count": 12,
   "metadata": {},
   "outputs": [
    {
     "name": "stdout",
     "output_type": "stream",
     "text": [
      "Tests Passed\n"
     ]
    }
   ],
   "source": [
    "def flatten(x_tensor):\n",
    "    \"\"\"\n",
    "    Flatten x_tensor to (Batch Size, Flattened Image Size)\n",
    "    : x_tensor: A tensor of size (Batch Size, ...), where ... are the image dimensions.\n",
    "    : return: A tensor of size (Batch Size, Flattened Image Size).\n",
    "    \"\"\"\n",
    "    # TODO: Implement Function\n",
    "    flattened_size = x_tensor.shape[1] * x_tensor.shape[2] * x_tensor.shape[3]\n",
    "    \n",
    "    return tf.reshape(x_tensor, [-1, flattened_size.value])\n",
    "\n",
    "\n",
    "\"\"\"\n",
    "DON'T MODIFY ANYTHING IN THIS CELL THAT IS BELOW THIS LINE\n",
    "\"\"\"\n",
    "tests.test_flatten(flatten)"
   ]
  },
  {
   "cell_type": "markdown",
   "metadata": {},
   "source": [
    "### Fully-Connected Layer\n",
    "Implement the `fully_conn` function to apply a fully connected layer to `x_tensor` with the shape (*Batch Size*, *num_outputs*). Shortcut option: you can use classes from the [TensorFlow Layers](https://www.tensorflow.org/api_docs/python/tf/layers) or [TensorFlow Layers (contrib)](https://www.tensorflow.org/api_guides/python/contrib.layers) packages for this layer. For more of a challenge, only use other TensorFlow packages."
   ]
  },
  {
   "cell_type": "code",
   "execution_count": 13,
   "metadata": {},
   "outputs": [
    {
     "name": "stdout",
     "output_type": "stream",
     "text": [
      "Tests Passed\n"
     ]
    }
   ],
   "source": [
    "def fully_conn(x_tensor, num_outputs):\n",
    "    \"\"\"\n",
    "    Apply a fully connected layer to x_tensor using weight and bias\n",
    "    : x_tensor: A 2-D tensor where the first dimension is batch size.\n",
    "    : num_outputs: The number of output that the new tensor should be.\n",
    "    : return: A 2-D tensor where the second dimension is num_outputs.\n",
    "    \"\"\"\n",
    "    # TODO: Implement Function\n",
    "    num_features = x_tensor.shape[1].value\n",
    "    weights = tf.Variable(tf.random_normal([num_features, num_outputs], stddev=0.1))\n",
    "    biases = tf.Variable(tf.zeros([num_outputs]))\n",
    "    fc = tf.add(tf.matmul(x_tensor, weights), biases)\n",
    "    fc = tf.nn.relu(fc)\n",
    "    return fc\n",
    "\n",
    "\n",
    "\"\"\"\n",
    "DON'T MODIFY ANYTHING IN THIS CELL THAT IS BELOW THIS LINE\n",
    "\"\"\"\n",
    "tests.test_fully_conn(fully_conn)"
   ]
  },
  {
   "cell_type": "markdown",
   "metadata": {},
   "source": [
    "### Output Layer\n",
    "Implement the `output` function to apply a fully connected layer to `x_tensor` with the shape (*Batch Size*, *num_outputs*). Shortcut option: you can use classes from the [TensorFlow Layers](https://www.tensorflow.org/api_docs/python/tf/layers) or [TensorFlow Layers (contrib)](https://www.tensorflow.org/api_guides/python/contrib.layers) packages for this layer. For more of a challenge, only use other TensorFlow packages.\n",
    "\n",
    "**Note:** Activation, softmax, or cross entropy should **not** be applied to this."
   ]
  },
  {
   "cell_type": "code",
   "execution_count": 14,
   "metadata": {
    "scrolled": false
   },
   "outputs": [
    {
     "name": "stdout",
     "output_type": "stream",
     "text": [
      "Tests Passed\n"
     ]
    }
   ],
   "source": [
    "def output(x_tensor, num_outputs):\n",
    "    \"\"\"\n",
    "    Apply a output layer to x_tensor using weight and bias\n",
    "    : x_tensor: A 2-D tensor where the first dimension is batch size.\n",
    "    : num_outputs: The number of output that the new tensor should be.\n",
    "    : return: A 2-D tensor where the second dimension is num_outputs.\n",
    "    \"\"\"\n",
    "    # TODO: Implement Function\n",
    "    \n",
    "    num_features = x_tensor.shape[1].value\n",
    "    weights = tf.Variable(tf.random_normal([num_features, num_outputs], stddev=0.1))\n",
    "    biases = tf.Variable(tf.zeros([num_outputs]))\n",
    "    output_layer = tf.add(tf.matmul(x_tensor, weights), biases)\n",
    "    return output_layer\n",
    "\n",
    "\n",
    "\"\"\"\n",
    "DON'T MODIFY ANYTHING IN THIS CELL THAT IS BELOW THIS LINE\n",
    "\"\"\"\n",
    "tests.test_output(output)"
   ]
  },
  {
   "cell_type": "markdown",
   "metadata": {},
   "source": [
    "### Create Convolutional Model\n",
    "Implement the function `conv_net` to create a convolutional neural network model. The function takes in a batch of images, `x`, and outputs logits.  Use the layers you created above to create this model:\n",
    "\n",
    "* Apply 1, 2, or 3 Convolution and Max Pool layers\n",
    "* Apply a Flatten Layer\n",
    "* Apply 1, 2, or 3 Fully Connected Layers\n",
    "* Apply an Output Layer\n",
    "* Return the output\n",
    "* Apply [TensorFlow's Dropout](https://www.tensorflow.org/api_docs/python/tf/nn/dropout) to one or more layers in the model using `keep_prob`. "
   ]
  },
  {
   "cell_type": "code",
   "execution_count": 15,
   "metadata": {},
   "outputs": [
    {
     "name": "stdout",
     "output_type": "stream",
     "text": [
      "Neural Network Built!\n"
     ]
    }
   ],
   "source": [
    "def conv_net(x, keep_prob):\n",
    "    \"\"\"\n",
    "    Create a convolutional neural network model\n",
    "    : x: Placeholder tensor that holds image data.\n",
    "    : keep_prob: Placeholder tensor that hold dropout keep probability.\n",
    "    : return: Tensor that represents logits\n",
    "    \"\"\"\n",
    "    # TODO: Apply 1, 2, or 3 Convolution and Max Pool layers\n",
    "    #    Play around with different number of outputs, kernel size and stride\n",
    "    # Function Definition from Above:\n",
    "    #    conv2d_maxpool(x_tensor, conv_num_outputs, conv_ksize, conv_strides, pool_ksize, pool_strides)\n",
    "    \n",
    "    x = conv2d_maxpool(x, 8, (4,4),(1,1),(2,2),(2,2))\n",
    "    x = conv2d_maxpool(x, 16, (4,4),(1,1),(2,2),(2,2))\n",
    "    x = conv2d_maxpool(x, 32, (4,4),(1,1),(2,2),(2,2))\n",
    "    # TODO: Apply a Flatten Layer\n",
    "    # Function Definition from Above:\n",
    "    #   flatten(x_tensor)\n",
    "    \n",
    "    x = flatten(x) \n",
    "\n",
    "    # TODO: Apply 1, 2, or 3 Fully Connected Layers\n",
    "    #    Play around with different number of outputs\n",
    "    # Function Definition from Above:\n",
    "    #   fully_conn(x_tensor, num_outputs)\n",
    "    \n",
    "    x = fully_conn(x, 1024)\n",
    "    x = tf.nn.dropout(x, keep_prob=keep_prob)\n",
    "    x = fully_conn(x, 1024)\n",
    "    x = tf.nn.dropout(x, keep_prob=keep_prob)\n",
    "    \n",
    "    # TODO: Apply an Output Layer\n",
    "    #    Set this to the number of classes\n",
    "    # Function Definition from Above:\n",
    "    #   output(x_tensor, num_outputs)\n",
    "    x = output(x,10)\n",
    "    \n",
    "    # TODO: return output\n",
    "    return x\n",
    "\n",
    "\n",
    "\"\"\"\n",
    "DON'T MODIFY ANYTHING IN THIS CELL THAT IS BELOW THIS LINE\n",
    "\"\"\"\n",
    "\n",
    "##############################\n",
    "## Build the Neural Network ##\n",
    "##############################\n",
    "\n",
    "# Remove previous weights, bias, inputs, etc..\n",
    "tf.reset_default_graph()\n",
    "\n",
    "# Inputs\n",
    "x = neural_net_image_input((32, 32, 3))\n",
    "y = neural_net_label_input(10)\n",
    "keep_prob = neural_net_keep_prob_input()\n",
    "\n",
    "# Model\n",
    "logits = conv_net(x, keep_prob)\n",
    "\n",
    "# Name logits Tensor, so that is can be loaded from disk after training\n",
    "logits = tf.identity(logits, name='logits')\n",
    "\n",
    "# Loss and Optimizer\n",
    "cost = tf.reduce_mean(tf.nn.softmax_cross_entropy_with_logits(logits=logits, labels=y))\n",
    "optimizer = tf.train.AdamOptimizer().minimize(cost)\n",
    "\n",
    "# Accuracy\n",
    "correct_pred = tf.equal(tf.argmax(logits, 1), tf.argmax(y, 1))\n",
    "accuracy = tf.reduce_mean(tf.cast(correct_pred, tf.float32), name='accuracy')\n",
    "\n",
    "tests.test_conv_net(conv_net)"
   ]
  },
  {
   "cell_type": "markdown",
   "metadata": {},
   "source": [
    "## Train the Neural Network\n",
    "### Single Optimization\n",
    "Implement the function `train_neural_network` to do a single optimization.  The optimization should use `optimizer` to optimize in `session` with a `feed_dict` of the following:\n",
    "* `x` for image input\n",
    "* `y` for labels\n",
    "* `keep_prob` for keep probability for dropout\n",
    "\n",
    "This function will be called for each batch, so `tf.global_variables_initializer()` has already been called.\n",
    "\n",
    "Note: Nothing needs to be returned. This function is only optimizing the neural network."
   ]
  },
  {
   "cell_type": "code",
   "execution_count": 16,
   "metadata": {},
   "outputs": [
    {
     "name": "stdout",
     "output_type": "stream",
     "text": [
      "Tests Passed\n"
     ]
    }
   ],
   "source": [
    "def train_neural_network(session, optimizer, keep_probability, feature_batch, label_batch):\n",
    "    \"\"\"\n",
    "    Optimize the session on a batch of images and labels\n",
    "    : session: Current TensorFlow session\n",
    "    : optimizer: TensorFlow optimizer function\n",
    "    : keep_probability: keep probability\n",
    "    : feature_batch: Batch of Numpy image data\n",
    "    : label_batch: Batch of Numpy label data\n",
    "    \"\"\"\n",
    "    # TODO: Implement Function\n",
    "    session.run(optimizer, feed_dict={x:feature_batch, y:label_batch, keep_prob:keep_probability})\n",
    "\n",
    "\n",
    "\"\"\"\n",
    "DON'T MODIFY ANYTHING IN THIS CELL THAT IS BELOW THIS LINE\n",
    "\"\"\"\n",
    "tests.test_train_nn(train_neural_network)"
   ]
  },
  {
   "cell_type": "markdown",
   "metadata": {},
   "source": [
    "### Show Stats\n",
    "Implement the function `print_stats` to print loss and validation accuracy.  Use the global variables `valid_features` and `valid_labels` to calculate validation accuracy.  Use a keep probability of `1.0` to calculate the loss and validation accuracy."
   ]
  },
  {
   "cell_type": "code",
   "execution_count": 17,
   "metadata": {
    "collapsed": true
   },
   "outputs": [],
   "source": [
    "def print_stats(session, feature_batch, label_batch, cost, accuracy):\n",
    "    \"\"\"\n",
    "    Print information about loss and validation accuracy\n",
    "    : session: Current TensorFlow session\n",
    "    : feature_batch: Batch of Numpy image data\n",
    "    : label_batch: Batch of Numpy label data\n",
    "    : cost: TensorFlow cost function\n",
    "    : accuracy: TensorFlow accuracy function\n",
    "    \"\"\"\n",
    "    # TODO: Implement Function\n",
    "    loss = session.run(cost, feed_dict={x:feature_batch, y:label_batch, keep_prob:1.0})\n",
    "    \n",
    "    acc = session.run(accuracy, feed_dict={x:valid_features, y:valid_labels, keep_prob:1.0})\n",
    "    print('Loss={0} ValidationAccuracy={1}'.format(loss, acc))\n",
    "    "
   ]
  },
  {
   "cell_type": "markdown",
   "metadata": {},
   "source": [
    "### Hyperparameters\n",
    "Tune the following parameters:\n",
    "* Set `epochs` to the number of iterations until the network stops learning or start overfitting\n",
    "* Set `batch_size` to the highest number that your machine has memory for.  Most people set them to common sizes of memory:\n",
    " * 64\n",
    " * 128\n",
    " * 256\n",
    " * ...\n",
    "* Set `keep_probability` to the probability of keeping a node using dropout"
   ]
  },
  {
   "cell_type": "code",
   "execution_count": 18,
   "metadata": {
    "collapsed": true
   },
   "outputs": [],
   "source": [
    "# TODO: Tune Parameters\n",
    "epochs = 25\n",
    "batch_size = 1028\n",
    "keep_probability = 0.9"
   ]
  },
  {
   "cell_type": "markdown",
   "metadata": {},
   "source": [
    "### Train on a Single CIFAR-10 Batch\n",
    "Instead of training the neural network on all the CIFAR-10 batches of data, let's use a single batch. This should save time while you iterate on the model to get a better accuracy.  Once the final validation accuracy is 50% or greater, run the model on all the data in the next section."
   ]
  },
  {
   "cell_type": "code",
   "execution_count": 19,
   "metadata": {},
   "outputs": [
    {
     "name": "stdout",
     "output_type": "stream",
     "text": [
      "Checking the Training on a Single Batch...\n",
      "Epoch  1, CIFAR-10 Batch 1:  Loss=2.2635481357574463 ValidationAccuracy=0.15359999239444733\n",
      "Epoch  2, CIFAR-10 Batch 1:  Loss=2.159487724304199 ValidationAccuracy=0.22759999334812164\n",
      "Epoch  3, CIFAR-10 Batch 1:  Loss=2.0184855461120605 ValidationAccuracy=0.3027999997138977\n",
      "Epoch  4, CIFAR-10 Batch 1:  Loss=1.7957044839859009 ValidationAccuracy=0.36880001425743103\n",
      "Epoch  5, CIFAR-10 Batch 1:  Loss=1.6646018028259277 ValidationAccuracy=0.39899998903274536\n",
      "Epoch  6, CIFAR-10 Batch 1:  Loss=1.5678223371505737 ValidationAccuracy=0.423799991607666\n",
      "Epoch  7, CIFAR-10 Batch 1:  Loss=1.4756813049316406 ValidationAccuracy=0.4421999752521515\n",
      "Epoch  8, CIFAR-10 Batch 1:  Loss=1.396985650062561 ValidationAccuracy=0.4527999758720398\n",
      "Epoch  9, CIFAR-10 Batch 1:  Loss=1.3239319324493408 ValidationAccuracy=0.46779996156692505\n",
      "Epoch 10, CIFAR-10 Batch 1:  Loss=1.2456810474395752 ValidationAccuracy=0.47659993171691895\n",
      "Epoch 11, CIFAR-10 Batch 1:  Loss=1.1770331859588623 ValidationAccuracy=0.491599977016449\n",
      "Epoch 12, CIFAR-10 Batch 1:  Loss=1.120635986328125 ValidationAccuracy=0.4939999580383301\n",
      "Epoch 13, CIFAR-10 Batch 1:  Loss=1.074497938156128 ValidationAccuracy=0.4903999865055084\n",
      "Epoch 14, CIFAR-10 Batch 1:  Loss=1.0139963626861572 ValidationAccuracy=0.5003999471664429\n",
      "Epoch 15, CIFAR-10 Batch 1:  Loss=0.9582498073577881 ValidationAccuracy=0.5117999315261841\n",
      "Epoch 16, CIFAR-10 Batch 1:  Loss=0.905308723449707 ValidationAccuracy=0.5115999579429626\n",
      "Epoch 17, CIFAR-10 Batch 1:  Loss=0.868135929107666 ValidationAccuracy=0.5101999044418335\n",
      "Epoch 18, CIFAR-10 Batch 1:  Loss=0.8489285707473755 ValidationAccuracy=0.5054000020027161\n",
      "Epoch 19, CIFAR-10 Batch 1:  Loss=0.7780900597572327 ValidationAccuracy=0.5179999470710754\n",
      "Epoch 20, CIFAR-10 Batch 1:  Loss=0.7133144736289978 ValidationAccuracy=0.5185999274253845\n",
      "Epoch 21, CIFAR-10 Batch 1:  Loss=0.6910836696624756 ValidationAccuracy=0.5125999450683594\n",
      "Epoch 22, CIFAR-10 Batch 1:  Loss=0.6514914035797119 ValidationAccuracy=0.5145999789237976\n",
      "Epoch 23, CIFAR-10 Batch 1:  Loss=0.5924223065376282 ValidationAccuracy=0.5189999938011169\n",
      "Epoch 24, CIFAR-10 Batch 1:  Loss=0.5480753183364868 ValidationAccuracy=0.5219998955726624\n",
      "Epoch 25, CIFAR-10 Batch 1:  Loss=0.5327668190002441 ValidationAccuracy=0.5183999538421631\n"
     ]
    }
   ],
   "source": [
    "\"\"\"\n",
    "DON'T MODIFY ANYTHING IN THIS CELL\n",
    "\"\"\"\n",
    "print('Checking the Training on a Single Batch...')\n",
    "with tf.Session() as sess:\n",
    "    # Initializing the variables\n",
    "    sess.run(tf.global_variables_initializer())\n",
    "    \n",
    "    # Training cycle\n",
    "    for epoch in range(epochs):\n",
    "        batch_i = 1\n",
    "        for batch_features, batch_labels in helper.load_preprocess_training_batch(batch_i, batch_size):\n",
    "            train_neural_network(sess, optimizer, keep_probability, batch_features, batch_labels)\n",
    "        print('Epoch {:>2}, CIFAR-10 Batch {}:  '.format(epoch + 1, batch_i), end='')\n",
    "        print_stats(sess, batch_features, batch_labels, cost, accuracy)"
   ]
  },
  {
   "cell_type": "markdown",
   "metadata": {},
   "source": [
    "### Fully Train the Model\n",
    "Now that you got a good accuracy with a single CIFAR-10 batch, try it with all five batches."
   ]
  },
  {
   "cell_type": "code",
   "execution_count": 20,
   "metadata": {
    "scrolled": true
   },
   "outputs": [
    {
     "name": "stdout",
     "output_type": "stream",
     "text": [
      "Training...\n",
      "Epoch  1, CIFAR-10 Batch 1:  Loss=2.116575241088867 ValidationAccuracy=0.2070000022649765\n",
      "Epoch  1, CIFAR-10 Batch 2:  Loss=1.9165363311767578 ValidationAccuracy=0.3243999779224396\n",
      "Epoch  1, CIFAR-10 Batch 3:  Loss=1.7167370319366455 ValidationAccuracy=0.3569999933242798\n",
      "Epoch  1, CIFAR-10 Batch 4:  Loss=1.6789807081222534 ValidationAccuracy=0.4034000039100647\n",
      "Epoch  1, CIFAR-10 Batch 5:  Loss=1.594818353652954 ValidationAccuracy=0.4209999442100525\n",
      "Epoch  2, CIFAR-10 Batch 1:  Loss=1.5396112203598022 ValidationAccuracy=0.44579997658729553\n",
      "Epoch  2, CIFAR-10 Batch 2:  Loss=1.4850890636444092 ValidationAccuracy=0.4521999657154083\n",
      "Epoch  2, CIFAR-10 Batch 3:  Loss=1.4101006984710693 ValidationAccuracy=0.46779996156692505\n",
      "Epoch  2, CIFAR-10 Batch 4:  Loss=1.4043645858764648 ValidationAccuracy=0.4811999499797821\n",
      "Epoch  2, CIFAR-10 Batch 5:  Loss=1.3951365947723389 ValidationAccuracy=0.4789999723434448\n",
      "Epoch  3, CIFAR-10 Batch 1:  Loss=1.3282971382141113 ValidationAccuracy=0.5005999803543091\n",
      "Epoch  3, CIFAR-10 Batch 2:  Loss=1.3306941986083984 ValidationAccuracy=0.49879997968673706\n",
      "Epoch  3, CIFAR-10 Batch 3:  Loss=1.2666047811508179 ValidationAccuracy=0.5127999782562256\n",
      "Epoch  3, CIFAR-10 Batch 4:  Loss=1.229023814201355 ValidationAccuracy=0.5279998779296875\n",
      "Epoch  3, CIFAR-10 Batch 5:  Loss=1.2454147338867188 ValidationAccuracy=0.5205999612808228\n",
      "Epoch  4, CIFAR-10 Batch 1:  Loss=1.192820429801941 ValidationAccuracy=0.5317999124526978\n",
      "Epoch  4, CIFAR-10 Batch 2:  Loss=1.231762409210205 ValidationAccuracy=0.5219999551773071\n",
      "Epoch  4, CIFAR-10 Batch 3:  Loss=1.1725749969482422 ValidationAccuracy=0.5323999524116516\n",
      "Epoch  4, CIFAR-10 Batch 4:  Loss=1.1179698705673218 ValidationAccuracy=0.5429999828338623\n",
      "Epoch  4, CIFAR-10 Batch 5:  Loss=1.1343759298324585 ValidationAccuracy=0.5475999116897583\n",
      "Epoch  5, CIFAR-10 Batch 1:  Loss=1.0915286540985107 ValidationAccuracy=0.5531999468803406\n",
      "Epoch  5, CIFAR-10 Batch 2:  Loss=1.1319103240966797 ValidationAccuracy=0.5493999719619751\n",
      "Epoch  5, CIFAR-10 Batch 3:  Loss=1.0988572835922241 ValidationAccuracy=0.5547999143600464\n",
      "Epoch  5, CIFAR-10 Batch 4:  Loss=1.028765320777893 ValidationAccuracy=0.5567998886108398\n",
      "Epoch  5, CIFAR-10 Batch 5:  Loss=1.0471127033233643 ValidationAccuracy=0.5583999156951904\n",
      "Epoch  6, CIFAR-10 Batch 1:  Loss=1.0077550411224365 ValidationAccuracy=0.5641999244689941\n",
      "Epoch  6, CIFAR-10 Batch 2:  Loss=1.0215957164764404 ValidationAccuracy=0.5809999108314514\n",
      "Epoch  6, CIFAR-10 Batch 3:  Loss=0.9880996942520142 ValidationAccuracy=0.5773999094963074\n",
      "Epoch  6, CIFAR-10 Batch 4:  Loss=0.9424419403076172 ValidationAccuracy=0.5801998972892761\n",
      "Epoch  6, CIFAR-10 Batch 5:  Loss=0.9500184059143066 ValidationAccuracy=0.5771999955177307\n",
      "Epoch  7, CIFAR-10 Batch 1:  Loss=0.9173572659492493 ValidationAccuracy=0.5839998722076416\n",
      "Epoch  7, CIFAR-10 Batch 2:  Loss=0.9430893063545227 ValidationAccuracy=0.586199939250946\n",
      "Epoch  7, CIFAR-10 Batch 3:  Loss=0.9213818907737732 ValidationAccuracy=0.5865998864173889\n",
      "Epoch  7, CIFAR-10 Batch 4:  Loss=0.868994951248169 ValidationAccuracy=0.5925999283790588\n",
      "Epoch  7, CIFAR-10 Batch 5:  Loss=0.8634766340255737 ValidationAccuracy=0.5787999033927917\n",
      "Epoch  8, CIFAR-10 Batch 1:  Loss=0.846024751663208 ValidationAccuracy=0.6001998782157898\n",
      "Epoch  8, CIFAR-10 Batch 2:  Loss=0.8598048090934753 ValidationAccuracy=0.6011998653411865\n",
      "Epoch  8, CIFAR-10 Batch 3:  Loss=0.8309385776519775 ValidationAccuracy=0.5981999039649963\n",
      "Epoch  8, CIFAR-10 Batch 4:  Loss=0.7992939949035645 ValidationAccuracy=0.6013998985290527\n",
      "Epoch  8, CIFAR-10 Batch 5:  Loss=0.7832009196281433 ValidationAccuracy=0.595599889755249\n",
      "Epoch  9, CIFAR-10 Batch 1:  Loss=0.7875101566314697 ValidationAccuracy=0.6029999256134033\n",
      "Epoch  9, CIFAR-10 Batch 2:  Loss=0.8029755353927612 ValidationAccuracy=0.6061999201774597\n",
      "Epoch  9, CIFAR-10 Batch 3:  Loss=0.7744684815406799 ValidationAccuracy=0.5979998707771301\n",
      "Epoch  9, CIFAR-10 Batch 4:  Loss=0.753484845161438 ValidationAccuracy=0.6049998998641968\n",
      "Epoch  9, CIFAR-10 Batch 5:  Loss=0.7018868923187256 ValidationAccuracy=0.6045998930931091\n",
      "Epoch 10, CIFAR-10 Batch 1:  Loss=0.7070347666740417 ValidationAccuracy=0.6119999289512634\n",
      "Epoch 10, CIFAR-10 Batch 2:  Loss=0.7194178104400635 ValidationAccuracy=0.6185998916625977\n",
      "Epoch 10, CIFAR-10 Batch 3:  Loss=0.6859273910522461 ValidationAccuracy=0.6147998571395874\n",
      "Epoch 10, CIFAR-10 Batch 4:  Loss=0.6799866557121277 ValidationAccuracy=0.6129999160766602\n",
      "Epoch 10, CIFAR-10 Batch 5:  Loss=0.6251375675201416 ValidationAccuracy=0.6163999438285828\n",
      "Epoch 11, CIFAR-10 Batch 1:  Loss=0.6414035558700562 ValidationAccuracy=0.6151999235153198\n",
      "Epoch 11, CIFAR-10 Batch 2:  Loss=0.6648222804069519 ValidationAccuracy=0.6219999194145203\n",
      "Epoch 11, CIFAR-10 Batch 3:  Loss=0.6350473165512085 ValidationAccuracy=0.6153998970985413\n",
      "Epoch 11, CIFAR-10 Batch 4:  Loss=0.6250375509262085 ValidationAccuracy=0.6171998977661133\n",
      "Epoch 11, CIFAR-10 Batch 5:  Loss=0.5923982858657837 ValidationAccuracy=0.6121999025344849\n",
      "Epoch 12, CIFAR-10 Batch 1:  Loss=0.579953670501709 ValidationAccuracy=0.6233999133110046\n",
      "Epoch 12, CIFAR-10 Batch 2:  Loss=0.6112555861473083 ValidationAccuracy=0.6243999004364014\n",
      "Epoch 12, CIFAR-10 Batch 3:  Loss=0.5906463265419006 ValidationAccuracy=0.608199954032898\n",
      "Epoch 12, CIFAR-10 Batch 4:  Loss=0.5709068775177002 ValidationAccuracy=0.6191999316215515\n",
      "Epoch 12, CIFAR-10 Batch 5:  Loss=0.5358299612998962 ValidationAccuracy=0.6145999431610107\n",
      "Epoch 13, CIFAR-10 Batch 1:  Loss=0.5564080476760864 ValidationAccuracy=0.6227998733520508\n",
      "Epoch 13, CIFAR-10 Batch 2:  Loss=0.5748289823532104 ValidationAccuracy=0.61819988489151\n",
      "Epoch 13, CIFAR-10 Batch 3:  Loss=0.5160613059997559 ValidationAccuracy=0.6139998435974121\n",
      "Epoch 13, CIFAR-10 Batch 4:  Loss=0.5403992533683777 ValidationAccuracy=0.621199905872345\n",
      "Epoch 13, CIFAR-10 Batch 5:  Loss=0.5127845406532288 ValidationAccuracy=0.6177998781204224\n",
      "Epoch 14, CIFAR-10 Batch 1:  Loss=0.47793063521385193 ValidationAccuracy=0.6255999207496643\n",
      "Epoch 14, CIFAR-10 Batch 2:  Loss=0.5877639055252075 ValidationAccuracy=0.6089999079704285\n",
      "Epoch 14, CIFAR-10 Batch 3:  Loss=0.4718049466609955 ValidationAccuracy=0.6257998943328857\n",
      "Epoch 14, CIFAR-10 Batch 4:  Loss=0.4900374114513397 ValidationAccuracy=0.6203998923301697\n",
      "Epoch 14, CIFAR-10 Batch 5:  Loss=0.45895037055015564 ValidationAccuracy=0.6213998794555664\n",
      "Epoch 15, CIFAR-10 Batch 1:  Loss=0.46271368861198425 ValidationAccuracy=0.6235999464988708\n",
      "Epoch 15, CIFAR-10 Batch 2:  Loss=0.4946320950984955 ValidationAccuracy=0.6197999119758606\n",
      "Epoch 15, CIFAR-10 Batch 3:  Loss=0.47163334488868713 ValidationAccuracy=0.6177998781204224\n",
      "Epoch 15, CIFAR-10 Batch 4:  Loss=0.4732632637023926 ValidationAccuracy=0.6061999201774597\n",
      "Epoch 15, CIFAR-10 Batch 5:  Loss=0.4482164680957794 ValidationAccuracy=0.6013998985290527\n",
      "Epoch 16, CIFAR-10 Batch 1:  Loss=0.43059098720550537 ValidationAccuracy=0.624799907207489\n",
      "Epoch 16, CIFAR-10 Batch 2:  Loss=0.45610862970352173 ValidationAccuracy=0.6159999370574951\n",
      "Epoch 16, CIFAR-10 Batch 3:  Loss=0.478093683719635 ValidationAccuracy=0.614599883556366\n",
      "Epoch 16, CIFAR-10 Batch 4:  Loss=0.4254569411277771 ValidationAccuracy=0.6025999784469604\n",
      "Epoch 16, CIFAR-10 Batch 5:  Loss=0.37497034668922424 ValidationAccuracy=0.6223998665809631\n",
      "Epoch 17, CIFAR-10 Batch 1:  Loss=0.3945375382900238 ValidationAccuracy=0.6333999037742615\n",
      "Epoch 17, CIFAR-10 Batch 2:  Loss=0.4307030439376831 ValidationAccuracy=0.6267999410629272\n",
      "Epoch 17, CIFAR-10 Batch 3:  Loss=0.378597229719162 ValidationAccuracy=0.6189998984336853\n",
      "Epoch 17, CIFAR-10 Batch 4:  Loss=0.37876906991004944 ValidationAccuracy=0.5981999635696411\n",
      "Epoch 17, CIFAR-10 Batch 5:  Loss=0.32433873414993286 ValidationAccuracy=0.6223998665809631\n",
      "Epoch 18, CIFAR-10 Batch 1:  Loss=0.3191494047641754 ValidationAccuracy=0.6365998983383179\n",
      "Epoch 18, CIFAR-10 Batch 2:  Loss=0.3639373183250427 ValidationAccuracy=0.6223998665809631\n",
      "Epoch 18, CIFAR-10 Batch 3:  Loss=0.3531460762023926 ValidationAccuracy=0.6173999309539795\n",
      "Epoch 18, CIFAR-10 Batch 4:  Loss=0.31883370876312256 ValidationAccuracy=0.621199905872345\n",
      "Epoch 18, CIFAR-10 Batch 5:  Loss=0.2924460768699646 ValidationAccuracy=0.6107999086380005\n"
     ]
    },
    {
     "name": "stdout",
     "output_type": "stream",
     "text": [
      "Epoch 19, CIFAR-10 Batch 1:  Loss=0.2859679162502289 ValidationAccuracy=0.6241998672485352\n",
      "Epoch 19, CIFAR-10 Batch 2:  Loss=0.32781586050987244 ValidationAccuracy=0.6201999187469482\n",
      "Epoch 19, CIFAR-10 Batch 3:  Loss=0.3165755271911621 ValidationAccuracy=0.6125999093055725\n",
      "Epoch 19, CIFAR-10 Batch 4:  Loss=0.3184414803981781 ValidationAccuracy=0.6109999418258667\n",
      "Epoch 19, CIFAR-10 Batch 5:  Loss=0.30832773447036743 ValidationAccuracy=0.6001999378204346\n",
      "Epoch 20, CIFAR-10 Batch 1:  Loss=0.3018430471420288 ValidationAccuracy=0.6109999418258667\n",
      "Epoch 20, CIFAR-10 Batch 2:  Loss=0.3093211352825165 ValidationAccuracy=0.6113999485969543\n",
      "Epoch 20, CIFAR-10 Batch 3:  Loss=0.31494712829589844 ValidationAccuracy=0.6215998530387878\n",
      "Epoch 20, CIFAR-10 Batch 4:  Loss=0.31240490078926086 ValidationAccuracy=0.6243999004364014\n",
      "Epoch 20, CIFAR-10 Batch 5:  Loss=0.28934335708618164 ValidationAccuracy=0.6143999099731445\n",
      "Epoch 21, CIFAR-10 Batch 1:  Loss=0.27677735686302185 ValidationAccuracy=0.6153998970985413\n",
      "Epoch 21, CIFAR-10 Batch 2:  Loss=0.2864372432231903 ValidationAccuracy=0.6227999329566956\n",
      "Epoch 21, CIFAR-10 Batch 3:  Loss=0.2778671681880951 ValidationAccuracy=0.621799886226654\n",
      "Epoch 21, CIFAR-10 Batch 4:  Loss=0.27016809582710266 ValidationAccuracy=0.6133999228477478\n",
      "Epoch 21, CIFAR-10 Batch 5:  Loss=0.25025463104248047 ValidationAccuracy=0.619999885559082\n",
      "Epoch 22, CIFAR-10 Batch 1:  Loss=0.29516398906707764 ValidationAccuracy=0.6103999018669128\n",
      "Epoch 22, CIFAR-10 Batch 2:  Loss=0.3039839565753937 ValidationAccuracy=0.6043999195098877\n",
      "Epoch 22, CIFAR-10 Batch 3:  Loss=0.28072500228881836 ValidationAccuracy=0.6235999464988708\n",
      "Epoch 22, CIFAR-10 Batch 4:  Loss=0.29529300332069397 ValidationAccuracy=0.6101999282836914\n",
      "Epoch 22, CIFAR-10 Batch 5:  Loss=0.2254815697669983 ValidationAccuracy=0.6299998760223389\n",
      "Epoch 23, CIFAR-10 Batch 1:  Loss=0.22792072594165802 ValidationAccuracy=0.6197998523712158\n",
      "Epoch 23, CIFAR-10 Batch 2:  Loss=0.24810288846492767 ValidationAccuracy=0.6159999370574951\n",
      "Epoch 23, CIFAR-10 Batch 3:  Loss=0.23453907668590546 ValidationAccuracy=0.6291999220848083\n",
      "Epoch 23, CIFAR-10 Batch 4:  Loss=0.2352081537246704 ValidationAccuracy=0.6221998929977417\n",
      "Epoch 23, CIFAR-10 Batch 5:  Loss=0.23126405477523804 ValidationAccuracy=0.6221998929977417\n",
      "Epoch 24, CIFAR-10 Batch 1:  Loss=0.1982513964176178 ValidationAccuracy=0.6237999200820923\n",
      "Epoch 24, CIFAR-10 Batch 2:  Loss=0.20578698813915253 ValidationAccuracy=0.6217998266220093\n",
      "Epoch 24, CIFAR-10 Batch 3:  Loss=0.21804732084274292 ValidationAccuracy=0.6219998598098755\n",
      "Epoch 24, CIFAR-10 Batch 4:  Loss=0.21818237006664276 ValidationAccuracy=0.621799886226654\n",
      "Epoch 24, CIFAR-10 Batch 5:  Loss=0.21513576805591583 ValidationAccuracy=0.6179999113082886\n",
      "Epoch 25, CIFAR-10 Batch 1:  Loss=0.18495243787765503 ValidationAccuracy=0.6305999159812927\n",
      "Epoch 25, CIFAR-10 Batch 2:  Loss=0.18599897623062134 ValidationAccuracy=0.6289998888969421\n",
      "Epoch 25, CIFAR-10 Batch 3:  Loss=0.18096446990966797 ValidationAccuracy=0.6351999044418335\n",
      "Epoch 25, CIFAR-10 Batch 4:  Loss=0.2176843285560608 ValidationAccuracy=0.6143999099731445\n",
      "Epoch 25, CIFAR-10 Batch 5:  Loss=0.195075124502182 ValidationAccuracy=0.609799861907959\n"
     ]
    }
   ],
   "source": [
    "\"\"\"\n",
    "DON'T MODIFY ANYTHING IN THIS CELL\n",
    "\"\"\"\n",
    "save_model_path = './image_classification'\n",
    "\n",
    "print('Training...')\n",
    "with tf.Session() as sess:\n",
    "    # Initializing the variables\n",
    "    sess.run(tf.global_variables_initializer())\n",
    "    \n",
    "    # Training cycle\n",
    "    for epoch in range(epochs):\n",
    "        # Loop over all batches\n",
    "        n_batches = 5\n",
    "        for batch_i in range(1, n_batches + 1):\n",
    "            for batch_features, batch_labels in helper.load_preprocess_training_batch(batch_i, batch_size):\n",
    "                train_neural_network(sess, optimizer, keep_probability, batch_features, batch_labels)\n",
    "            print('Epoch {:>2}, CIFAR-10 Batch {}:  '.format(epoch + 1, batch_i), end='')\n",
    "            print_stats(sess, batch_features, batch_labels, cost, accuracy)\n",
    "            \n",
    "    # Save Model\n",
    "    saver = tf.train.Saver()\n",
    "    save_path = saver.save(sess, save_model_path)"
   ]
  },
  {
   "cell_type": "markdown",
   "metadata": {},
   "source": [
    "# Checkpoint\n",
    "The model has been saved to disk.\n",
    "## Test Model\n",
    "Test your model against the test dataset.  This will be your final accuracy. You should have an accuracy greater than 50%. If you don't, keep tweaking the model architecture and parameters."
   ]
  },
  {
   "cell_type": "code",
   "execution_count": 21,
   "metadata": {},
   "outputs": [
    {
     "name": "stdout",
     "output_type": "stream",
     "text": [
      "INFO:tensorflow:Restoring parameters from ./image_classification\n",
      "Testing Accuracy: 0.6058193802833557\n",
      "\n"
     ]
    },
    {
     "data": {
      "image/png": "[encoded data removed]",
      "text/plain": [
       "<matplotlib.figure.Figure at 0x7f170510f358>"
      ]
     },
     "metadata": {
      "image/png": {
       "height": 319,
       "width": 355
      }
     },
     "output_type": "display_data"
    }
   ],
   "source": [
    "\"\"\"\n",
    "DON'T MODIFY ANYTHING IN THIS CELL\n",
    "\"\"\"\n",
    "%matplotlib inline\n",
    "%config InlineBackend.figure_format = 'retina'\n",
    "\n",
    "import tensorflow as tf\n",
    "import pickle\n",
    "import helper\n",
    "import random\n",
    "\n",
    "# Set batch size if not already set\n",
    "try:\n",
    "    if batch_size:\n",
    "        pass\n",
    "except NameError:\n",
    "    batch_size = 64\n",
    "\n",
    "save_model_path = './image_classification'\n",
    "n_samples = 4\n",
    "top_n_predictions = 3\n",
    "\n",
    "def test_model():\n",
    "    \"\"\"\n",
    "    Test the saved model against the test dataset\n",
    "    \"\"\"\n",
    "\n",
    "    test_features, test_labels = pickle.load(open('preprocess_test.p', mode='rb'))\n",
    "    loaded_graph = tf.Graph()\n",
    "\n",
    "    with tf.Session(graph=loaded_graph) as sess:\n",
    "        # Load model\n",
    "        loader = tf.train.import_meta_graph(save_model_path + '.meta')\n",
    "        loader.restore(sess, save_model_path)\n",
    "\n",
    "        # Get Tensors from loaded model\n",
    "        loaded_x = loaded_graph.get_tensor_by_name('x:0')\n",
    "        loaded_y = loaded_graph.get_tensor_by_name('y:0')\n",
    "        loaded_keep_prob = loaded_graph.get_tensor_by_name('keep_prob:0')\n",
    "        loaded_logits = loaded_graph.get_tensor_by_name('logits:0')\n",
    "        loaded_acc = loaded_graph.get_tensor_by_name('accuracy:0')\n",
    "        \n",
    "        # Get accuracy in batches for memory limitations\n",
    "        test_batch_acc_total = 0\n",
    "        test_batch_count = 0\n",
    "        \n",
    "        for test_feature_batch, test_label_batch in helper.batch_features_labels(test_features, test_labels, batch_size):\n",
    "            test_batch_acc_total += sess.run(\n",
    "                loaded_acc,\n",
    "                feed_dict={loaded_x: test_feature_batch, loaded_y: test_label_batch, loaded_keep_prob: 1.0})\n",
    "            test_batch_count += 1\n",
    "\n",
    "        print('Testing Accuracy: {}\\n'.format(test_batch_acc_total/test_batch_count))\n",
    "\n",
    "        # Print Random Samples\n",
    "        random_test_features, random_test_labels = tuple(zip(*random.sample(list(zip(test_features, test_labels)), n_samples)))\n",
    "        random_test_predictions = sess.run(\n",
    "            tf.nn.top_k(tf.nn.softmax(loaded_logits), top_n_predictions),\n",
    "            feed_dict={loaded_x: random_test_features, loaded_y: random_test_labels, loaded_keep_prob: 1.0})\n",
    "        helper.display_image_predictions(random_test_features, random_test_labels, random_test_predictions)\n",
    "\n",
    "\n",
    "test_model()"
   ]
  },
  {
   "cell_type": "markdown",
   "metadata": {},
   "source": [
    "## Why 50-80% Accuracy?\n",
    "You might be wondering why you can't get an accuracy any higher. First things first, 50% isn't bad for a simple CNN.  Pure guessing would get you 10% accuracy. However, you might notice people are getting scores [well above 80%](http://rodrigob.github.io/are_we_there_yet/build/classification_datasets_results.html#43494641522d3130).  That's because we haven't taught you all there is to know about neural networks. We still need to cover a few more techniques.\n",
    "## Submitting This Project\n",
    "When submitting this project, make sure to run all the cells before saving the notebook.  Save the notebook file as \"dlnd_image_classification.ipynb\" and save it as a HTML file under \"File\" -> \"Download as\".  Include the \"helper.py\" and \"problem_unittests.py\" files in your submission."
   ]
  }
 ],
 "metadata": {
  "kernelspec": {
   "display_name": "Python 3",
   "language": "python",
   "name": "python3"
  },
  "language_info": {
   "codemirror_mode": {
    "name": "ipython",
    "version": 3
   },
   "file_extension": ".py",
   "mimetype": "text/x-python",
   "name": "python",
   "nbconvert_exporter": "python",
   "pygments_lexer": "ipython3",
   "version": "3.5.3"
  }
 },
 "nbformat": 4,
 "nbformat_minor": 1
}
